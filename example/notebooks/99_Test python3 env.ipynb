{
 "cells": [
  {
   "cell_type": "markdown",
   "metadata": {
    "lc_cell_meme": {
     "current": "e9a77cf0-2924-11e9-b46c-0242ac110002",
     "history": [
      {
       "current": "e9a77cf0-2924-11e9-b46c-0242ac110002",
       "next": null,
       "previous": null
      },
      {
       "current": "e9a77cf0-2924-11e9-b46c-0242ac110002",
       "next": "6d5d95aa-2927-11e9-b46c-0242ac110002",
       "previous": null
      },
      {
       "current": "e9a77cf0-2924-11e9-b46c-0242ac110002",
       "next": "fc68b4b4-2927-11e9-b46c-0242ac110002",
       "previous": null
      }
     ],
     "next": "0430b086-32b3-11e9-808f-0242ac130002",
     "previous": null
    }
   },
   "source": [
    "このNotebookは、このイメージにインストールされたライブラリ/ツールが予期した通りにインストールされていることをチェックするものです。Travis CI上でpapermillにより実行されます。\n",
    "\n",
    "This notebooks tests whether the installed apps work expectedly, and can be executed by papermill on Travis CI."
   ]
  },
  {
   "cell_type": "code",
   "execution_count": 1,
   "metadata": {
    "lc_cell_meme": {
     "current": "0430b086-32b3-11e9-808f-0242ac130002",
     "next": "fc68b4b4-2927-11e9-b46c-0242ac110002",
     "previous": "e9a77cf0-2924-11e9-b46c-0242ac110002"
    },
    "lc_wrapper": {
     "log_history": [
      "/home/jovyan/.log/20190423/20190423-080359-0674.log"
     ]
    }
   },
   "outputs": [],
   "source": [
    "import sys\n",
    "assert sys.version_info[0] == 3"
   ]
  },
  {
   "cell_type": "markdown",
   "metadata": {
    "lc_cell_meme": {
     "current": "fc68b4b4-2927-11e9-b46c-0242ac110002",
     "history": [
      {
       "current": "fc68b4b4-2927-11e9-b46c-0242ac110002",
       "next": "fc68b63a-2927-11e9-b46c-0242ac110002",
       "previous": "e9a77cf0-2924-11e9-b46c-0242ac110002"
      },
      {
       "current": "fc68b4b4-2927-11e9-b46c-0242ac110002",
       "next": "8b7481e2-2928-11e9-b46c-0242ac110002",
       "previous": "e9a77cf0-2924-11e9-b46c-0242ac110002"
      }
     ],
     "next": "8b7481e2-2928-11e9-b46c-0242ac110002",
     "previous": "0430b086-32b3-11e9-808f-0242ac130002"
    }
   },
   "source": [
    "# Libraries"
   ]
  },
  {
   "cell_type": "markdown",
   "metadata": {
    "lc_cell_meme": {
     "current": "8b7481e2-2928-11e9-b46c-0242ac110002",
     "next": "fc68b63a-2927-11e9-b46c-0242ac110002",
     "previous": "fc68b4b4-2927-11e9-b46c-0242ac110002"
    }
   },
   "source": [
    "numpy and matplotlib to draw charts"
   ]
  },
  {
   "cell_type": "code",
   "execution_count": 2,
   "metadata": {
    "lc_cell_meme": {
     "current": "fc68b63a-2927-11e9-b46c-0242ac110002",
     "history": [
      {
       "current": "fc68b63a-2927-11e9-b46c-0242ac110002",
       "next": "fc68b716-2927-11e9-b46c-0242ac110002",
       "previous": "fc68b4b4-2927-11e9-b46c-0242ac110002"
      }
     ],
     "next": "fc68b716-2927-11e9-b46c-0242ac110002",
     "previous": "8b7481e2-2928-11e9-b46c-0242ac110002"
    },
    "lc_wrapper": {
     "log_history": [
      "/notebooks/.log/20190205/20190205-092502-0406.log",
      "/notebooks/.log/20190205/20190205-094234-0264.log",
      "/home/jovyan/.log/20190423/20190423-080359-0688.log"
     ]
    }
   },
   "outputs": [],
   "source": [
    "%matplotlib inline"
   ]
  },
  {
   "cell_type": "code",
   "execution_count": 3,
   "metadata": {
    "lc_cell_meme": {
     "current": "fc68b716-2927-11e9-b46c-0242ac110002",
     "history": [
      {
       "current": "fc68b716-2927-11e9-b46c-0242ac110002",
       "next": "fc68b7de-2927-11e9-b46c-0242ac110002",
       "previous": "fc68b63a-2927-11e9-b46c-0242ac110002"
      }
     ],
     "next": "a98d3308-2929-11e9-b46c-0242ac110002",
     "previous": "fc68b63a-2927-11e9-b46c-0242ac110002"
    },
    "lc_wrapper": {
     "log_history": [
      "/notebooks/.log/20190205/20190205-092629-0411.log",
      "/notebooks/.log/20190205/20190205-092733-0710.log",
      "/notebooks/.log/20190205/20190205-092742-0845.log",
      "/notebooks/.log/20190205/20190205-092752-0476.log",
      "/notebooks/.log/20190205/20190205-092802-0318.log",
      "/notebooks/.log/20190205/20190205-092815-0327.log",
      "/notebooks/.log/20190205/20190205-092825-0227.log",
      "/notebooks/.log/20190205/20190205-094234-0447.log",
      "/home/jovyan/.log/20190423/20190423-080359-0888.log"
     ]
    }
   },
   "outputs": [
    {
     "data": {
      "text/plain": [
       "[<matplotlib.lines.Line2D at 0x7f8510084748>]"
      ]
     },
     "execution_count": 3,
     "metadata": {},
     "output_type": "execute_result"
    },
    {
     "data": {
      "image/png": "[encoded data removed]",
      "text/plain": [
       "<Figure size 432x288 with 1 Axes>"
      ]
     },
     "metadata": {
      "needs_background": "light"
     },
     "output_type": "display_data"
    }
   ],
   "source": [
    "import matplotlib.pyplot as plt\n",
    "import numpy as np\n",
    "\n",
    "x = np.arange(0.0, 10.0, 0.1)\n",
    "plt.plot(x, np.sin(x))"
   ]
  },
  {
   "cell_type": "markdown",
   "metadata": {
    "lc_cell_meme": {
     "current": "a98d3308-2929-11e9-b46c-0242ac110002",
     "next": "fc68b7de-2927-11e9-b46c-0242ac110002",
     "previous": "fc68b716-2927-11e9-b46c-0242ac110002"
    }
   },
   "source": [
    "pandas to display tables"
   ]
  },
  {
   "cell_type": "code",
   "execution_count": 4,
   "metadata": {
    "lc_cell_meme": {
     "current": "fc68b7de-2927-11e9-b46c-0242ac110002",
     "history": [
      {
       "current": "fc68b7de-2927-11e9-b46c-0242ac110002",
       "next": "6d5d95aa-2927-11e9-b46c-0242ac110002",
       "previous": "fc68b716-2927-11e9-b46c-0242ac110002"
      }
     ],
     "next": "6d5d95aa-2927-11e9-b46c-0242ac110002",
     "previous": "a98d3308-2929-11e9-b46c-0242ac110002"
    },
    "lc_wrapper": {
     "log_history": [
      "/notebooks/.log/20190205/20190205-092518-0209.log",
      "/notebooks/.log/20190205/20190205-092828-0212.log",
      "/notebooks/.log/20190205/20190205-094234-0622.log",
      "/home/jovyan/.log/20190423/20190423-080400-0045.log"
     ]
    }
   },
   "outputs": [
    {
     "data": {
      "text/html": [
       "<div>\n",
       "<style scoped>\n",
       "    .dataframe tbody tr th:only-of-type {\n",
       "        vertical-align: middle;\n",
       "    }\n",
       "\n",
       "    .dataframe tbody tr th {\n",
       "        vertical-align: top;\n",
       "    }\n",
       "\n",
       "    .dataframe thead th {\n",
       "        text-align: right;\n",
       "    }\n",
       "</style>\n",
       "<table border=\"1\" class=\"dataframe\">\n",
       "  <thead>\n",
       "    <tr style=\"text-align: right;\">\n",
       "      <th></th>\n",
       "      <th>A</th>\n",
       "      <th>B</th>\n",
       "    </tr>\n",
       "  </thead>\n",
       "  <tbody>\n",
       "    <tr>\n",
       "      <th>0</th>\n",
       "      <td>0</td>\n",
       "      <td>1</td>\n",
       "    </tr>\n",
       "    <tr>\n",
       "      <th>1</th>\n",
       "      <td>2</td>\n",
       "      <td>3</td>\n",
       "    </tr>\n",
       "  </tbody>\n",
       "</table>\n",
       "</div>"
      ],
      "text/plain": [
       "   A  B\n",
       "0  0  1\n",
       "1  2  3"
      ]
     },
     "execution_count": 4,
     "metadata": {},
     "output_type": "execute_result"
    }
   ],
   "source": [
    "import pandas as pd\n",
    "\n",
    "pd.DataFrame([(0, 1), (2, 3)], columns=['A', 'B'])"
   ]
  },
  {
   "cell_type": "markdown",
   "metadata": {
    "lc_cell_meme": {
     "current": "6d5d95aa-2927-11e9-b46c-0242ac110002",
     "history": [
      {
       "current": "6d5d95aa-2927-11e9-b46c-0242ac110002",
       "next": "6d5d9758-2927-11e9-b46c-0242ac110002",
       "previous": "e9a77cf0-2924-11e9-b46c-0242ac110002"
      }
     ],
     "next": "6d5d9758-2927-11e9-b46c-0242ac110002",
     "previous": "fc68b7de-2927-11e9-b46c-0242ac110002"
    }
   },
   "source": [
    "# Utilities"
   ]
  },
  {
   "cell_type": "code",
   "execution_count": 5,
   "metadata": {
    "lc_cell_meme": {
     "current": "6d5d9758-2927-11e9-b46c-0242ac110002",
     "history": [
      {
       "current": "6d5d9758-2927-11e9-b46c-0242ac110002",
       "next": null,
       "previous": "6d5d95aa-2927-11e9-b46c-0242ac110002"
      }
     ],
     "next": "b4e35658-2927-11e9-b46c-0242ac110002",
     "previous": "6d5d95aa-2927-11e9-b46c-0242ac110002"
    },
    "lc_wrapper": {
     "log_history": [
      "/notebooks/.log/20190205/20190205-092211-0057.log",
      "/notebooks/.log/20190205/20190205-094234-0780.log",
      "/home/jovyan/.log/20190423/20190423-080400-0224.log"
     ]
    }
   },
   "outputs": [
    {
     "name": "stdout",
     "output_type": "stream",
     "text": [
      "/opt/conda/bin/ansible\r\n"
     ]
    }
   ],
   "source": [
    "!which ansible"
   ]
  },
  {
   "cell_type": "code",
   "execution_count": 6,
   "metadata": {
    "lc_cell_meme": {
     "current": "b4e35658-2927-11e9-b46c-0242ac110002",
     "next": "b4e35aea-2927-11e9-b46c-0242ac110002",
     "previous": "6d5d9758-2927-11e9-b46c-0242ac110002"
    },
    "lc_wrapper": {
     "log_history": [
      "/notebooks/.log/20190205/20190205-092228-0139.log",
      "/notebooks/.log/20190205/20190205-094235-0129.log",
      "/home/jovyan/.log/20190423/20190423-080400-0569.log"
     ]
    }
   },
   "outputs": [
    {
     "name": "stdout",
     "output_type": "stream",
     "text": [
      "/usr/bin/wget\r\n"
     ]
    }
   ],
   "source": [
    "!which wget"
   ]
  },
  {
   "cell_type": "code",
   "execution_count": 7,
   "metadata": {
    "lc_cell_meme": {
     "current": "b4e35aea-2927-11e9-b46c-0242ac110002",
     "next": "b4e35bd0-2927-11e9-b46c-0242ac110002",
     "previous": "b4e35658-2927-11e9-b46c-0242ac110002"
    },
    "lc_wrapper": {
     "log_history": [
      "/notebooks/.log/20190205/20190205-092236-0224.log",
      "/notebooks/.log/20190205/20190205-094235-0470.log",
      "/home/jovyan/.log/20190423/20190423-080400-0914.log"
     ]
    }
   },
   "outputs": [
    {
     "name": "stdout",
     "output_type": "stream",
     "text": [
      "/usr/bin/curl\r\n"
     ]
    }
   ],
   "source": [
    "!which curl"
   ]
  },
  {
   "cell_type": "code",
   "execution_count": 8,
   "metadata": {
    "lc_cell_meme": {
     "current": "b4e35bd0-2927-11e9-b46c-0242ac110002",
     "history": [
      {
       "current": "b4e35bd0-2927-11e9-b46c-0242ac110002",
       "next": "b4e35f68-2927-11e9-b46c-0242ac110002",
       "previous": "b4e35aea-2927-11e9-b46c-0242ac110002"
      }
     ],
     "next": "8b748372-2928-11e9-b46c-0242ac110002",
     "previous": "b4e35aea-2927-11e9-b46c-0242ac110002"
    },
    "lc_wrapper": {
     "log_history": [
      "/notebooks/.log/20190205/20190205-092330-0927.log",
      "/notebooks/.log/20190205/20190205-094235-0818.log",
      "/home/jovyan/.log/20190423/20190423-080401-0253.log"
     ]
    }
   },
   "outputs": [
    {
     "name": "stdout",
     "output_type": "stream",
     "text": [
      "/opt/conda/bin/papermill\r\n"
     ]
    }
   ],
   "source": [
    "!which papermill"
   ]
  },
  {
   "cell_type": "code",
   "execution_count": 9,
   "metadata": {
    "lc_cell_meme": {
     "current": "8b748372-2928-11e9-b46c-0242ac110002",
     "history": [
      {
       "current": "8b748372-2928-11e9-b46c-0242ac110002",
       "next": null,
       "previous": "b4e35f68-2927-11e9-b46c-0242ac110002"
      },
      {
       "current": "8b748372-2928-11e9-b46c-0242ac110002",
       "next": null,
       "previous": "b4e35bd0-2927-11e9-b46c-0242ac110002"
      }
     ],
     "next": "5d1b28ca-659e-11e9-aa46-0242ac110002",
     "previous": "b4e35bd0-2927-11e9-b46c-0242ac110002"
    },
    "lc_wrapper": {
     "log_history": [
      "/home/jovyan/.log/20190423/20190423-080401-0587.log"
     ]
    }
   },
   "outputs": [
    {
     "name": "stdout",
     "output_type": "stream",
     "text": [
      "/bin/ping\r\n"
     ]
    }
   ],
   "source": [
    "!which ping"
   ]
  },
  {
   "cell_type": "code",
   "execution_count": null,
   "metadata": {
    "lc_cell_meme": {
     "current": "5d1b28ca-659e-11e9-aa46-0242ac110002",
     "next": null,
     "previous": "8b748372-2928-11e9-b46c-0242ac110002"
    }
   },
   "outputs": [],
   "source": []
  }
 ],
 "metadata": {
  "kernelspec": {
   "display_name": "Python 3",
   "language": "python",
   "name": "python3"
  },
  "language_info": {
   "file_extension": ".py",
   "mimetype": "text/x-python",
   "name": "python",
   "nbconvert_exporter": "python",
   "pygments_lexer": "ipython3",
   "version": "3.7.3"
  },
  "lc_notebook_meme": {
   "current": "e9a77b2e-2924-11e9-b46c-0242ac110002",
   "lc_server_signature": {
    "current": {
     "notebook_dir": "/home/jovyan",
     "notebook_path": "/sample-notebooks",
     "server_url": "http://localhost:8888/",
     "signature_id": "faa3f1b2-86aa-11e9-86e0-0242ac110002"
    },
    "history": [
     {
      "notebook_dir": "/notebooks",
      "notebook_path": "/",
      "server_url": "http://localhost:9999/",
      "signature_id": "90e6b91e-2924-11e9-b46c-0242ac110002"
     },
     {
      "notebook_dir": "/notebooks",
      "notebook_path": "/lc",
      "server_url": "http://localhost:8888/",
      "signature_id": "b23c7464-93a1-11e8-9980-0242ac130002"
     },
     {
      "notebook_dir": "/notebooks",
      "notebook_path": "/",
      "server_url": "http://localhost:9999/",
      "signature_id": "b00a4f5c-32b3-11e9-8e9e-0242ac110002"
     },
     {
      "notebook_dir": "/home/jovyan",
      "notebook_path": "/",
      "server_url": "http://localhost:8888/",
      "signature_id": "168d68ea-5fff-11e9-a589-0242ac110002"
     },
     {
      "notebook_dir": "/home/jovyan",
      "notebook_path": "/",
      "server_url": "http://localhost:8888/",
      "signature_id": "502d2410-659e-11e9-aa46-0242ac110002"
     }
    ]
   }
  },
  "toc": {
   "base_numbering": 1,
   "nav_menu": {},
   "number_sections": true,
   "sideBar": true,
   "skip_h1_title": false,
   "title_cell": "Table of Contents",
   "title_sidebar": "Contents",
   "toc_cell": false,
   "toc_position": {},
   "toc_section_display": true,
   "toc_window_display": false
  }
 },
 "nbformat": 4,
 "nbformat_minor": 2
}
