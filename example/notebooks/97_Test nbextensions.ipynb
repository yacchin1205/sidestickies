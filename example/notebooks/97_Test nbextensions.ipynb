{
 "cells": [
  {
   "cell_type": "markdown",
   "metadata": {
    "lc_cell_meme": {
     "current": "e9a77cf0-2924-11e9-b46c-0242ac110002",
     "history": [
      {
       "current": "e9a77cf0-2924-11e9-b46c-0242ac110002",
       "next": null,
       "previous": null
      },
      {
       "current": "e9a77cf0-2924-11e9-b46c-0242ac110002",
       "next": "6d5d95aa-2927-11e9-b46c-0242ac110002",
       "previous": null
      },
      {
       "current": "e9a77cf0-2924-11e9-b46c-0242ac110002",
       "next": "fc68b4b4-2927-11e9-b46c-0242ac110002",
       "previous": null
      },
      {
       "current": "e9a77cf0-2924-11e9-b46c-0242ac110002",
       "next": "0430b086-32b3-11e9-808f-0242ac130002",
       "previous": null
      }
     ],
     "next": "d01d4e7e-32b4-11e9-964e-0242ac110002",
     "previous": null
    }
   },
   "source": [
    "このNotebookは、このイメージにインストールされたNotebook Extensionが予期した通りにインストールされていることをチェックするものです。Travis CI上でpapermillにより実行されます。\n",
    "\n",
    "This notebooks tests whether the installed extensions work expectedly, and can be executed by papermill on Travis CI."
   ]
  },
  {
   "cell_type": "markdown",
   "metadata": {
    "lc_cell_meme": {
     "current": "d01d4e7e-32b4-11e9-964e-0242ac110002",
     "next": "8897ae28-32b4-11e9-964e-0242ac110002",
     "previous": "e9a77cf0-2924-11e9-b46c-0242ac110002"
    }
   },
   "source": [
    "# Installed extensions"
   ]
  },
  {
   "cell_type": "code",
   "execution_count": 1,
   "metadata": {
    "lc_cell_meme": {
     "current": "8897ae28-32b4-11e9-964e-0242ac110002",
     "history": [
      {
       "current": "8897ae28-32b4-11e9-964e-0242ac110002",
       "next": "8897b26a-32b4-11e9-964e-0242ac110002",
       "previous": null
      },
      {
       "current": "8897ae28-32b4-11e9-964e-0242ac110002",
       "next": "8897b26a-32b4-11e9-964e-0242ac110002",
       "previous": "d01d4e7e-32b4-11e9-964e-0242ac110002"
      }
     ],
     "next": "17a5a52a-32b5-11e9-964e-0242ac110002",
     "previous": "d01d4e7e-32b4-11e9-964e-0242ac110002"
    }
   },
   "outputs": [
    {
     "data": {
      "text/plain": [
       "['Known nbextensions:',\n",
       " '  config dir: /home/bit_kun/.jupyter/nbconfig',\n",
       " '    notebook section',\n",
       " '      nbextensions_configurator/config_menu/main \\x1b[32m enabled \\x1b[0m',\n",
       " '      toc2/main \\x1b[32m enabled \\x1b[0m',\n",
       " '      multi_outputs/main \\x1b[32m enabled \\x1b[0m',\n",
       " '      dragdrop/main \\x1b[32m enabled \\x1b[0m',\n",
       " '      collapsible_headings/main \\x1b[32m enabled \\x1b[0m',\n",
       " '      nbextension_i18n_cells/main \\x1b[32m enabled \\x1b[0m',\n",
       " '      nblineage/main \\x1b[32m enabled \\x1b[0m',\n",
       " '      contrib_nbextensions_help_item/main \\x1b[32m enabled \\x1b[0m',\n",
       " '      run_through/main \\x1b[32m enabled \\x1b[0m',\n",
       " '    tree section',\n",
       " '      nbextensions_configurator/tree_tab/main \\x1b[32m enabled \\x1b[0m',\n",
       " '      notebook_index/main \\x1b[32m enabled \\x1b[0m',\n",
       " '  config dir: /usr/local/etc/jupyter/nbconfig',\n",
       " '    notebook section',\n",
       " '      jupyter-js-widgets/extension \\x1b[32m enabled \\x1b[0m']"
      ]
     },
     "execution_count": 1,
     "metadata": {},
     "output_type": "execute_result"
    }
   ],
   "source": [
    "nbextensions = !jupyter nbextension list 2>>/dev/null\n",
    "nbextensions"
   ]
  },
  {
   "cell_type": "code",
   "execution_count": 2,
   "metadata": {
    "lc_cell_meme": {
     "current": "17a5a52a-32b5-11e9-964e-0242ac110002",
     "history": [
      {
       "current": "17a5a52a-32b5-11e9-964e-0242ac110002",
       "next": "8897b26a-32b4-11e9-964e-0242ac110002",
       "previous": "8897ae28-32b4-11e9-964e-0242ac110002"
      }
     ],
     "next": "a6b2f970-32b5-11e9-964e-0242ac110002",
     "previous": "8897ae28-32b4-11e9-964e-0242ac110002"
    }
   },
   "outputs": [
    {
     "data": {
      "text/plain": [
       "{'nbextensions_configurator/config_menu/main': 'enabled',\n",
       " 'multi_outputs/main': 'enabled',\n",
       " 'dragdrop/main': 'enabled',\n",
       " 'collapsible_headings/main': 'enabled',\n",
       " 'nblineage/main': 'enabled',\n",
       " 'contrib_nbextensions_help_item/main': 'enabled',\n",
       " 'run_through/main': 'enabled',\n",
       " 'nbextensions_configurator/tree_tab/main': 'enabled',\n",
       " 'notebook_index/main': 'enabled'}"
      ]
     },
     "execution_count": 2,
     "metadata": {},
     "output_type": "execute_result"
    }
   ],
   "source": [
    "import re\n",
    "indent_pat = re.compile(r'^(\\s+)([a-zA-Z\\/_]+)\\s+\\S+\\s+(.*)\\s+\\S+')\n",
    "ext_status = [indent_pat.match(l) for l in nbextensions if indent_pat.match(l) and len(indent_pat.match(l).group(1)) == 6]\n",
    "ext_status = dict([(m.group(2), m.group(3)) for m in ext_status])\n",
    "ext_status"
   ]
  },
  {
   "cell_type": "code",
   "execution_count": 3,
   "metadata": {
    "lc_cell_meme": {
     "current": "a6b2f970-32b5-11e9-964e-0242ac110002",
     "history": [
      {
       "current": "a6b2f970-32b5-11e9-964e-0242ac110002",
       "next": "8897b26a-32b4-11e9-964e-0242ac110002",
       "previous": "17a5a52a-32b5-11e9-964e-0242ac110002"
      }
     ],
     "next": "d0a730a2-32b5-11e9-964e-0242ac110002",
     "previous": "17a5a52a-32b5-11e9-964e-0242ac110002"
    }
   },
   "outputs": [],
   "source": [
    "assert ext_status['multi_outputs/main'] == 'enabled'\n",
    "assert ext_status['collapsible_headings/main'] == 'enabled'\n",
    "assert ext_status['nblineage/main'] == 'enabled'\n",
    "assert ext_status['run_through/main'] == 'enabled'\n",
    "assert ext_status['notebook_index/main'] == 'enabled'"
   ]
  },
  {
   "cell_type": "code",
   "execution_count": null,
   "metadata": {
    "lc_cell_meme": {
     "current": "d0a730a2-32b5-11e9-964e-0242ac110002",
     "next": null,
     "previous": "a6b2f970-32b5-11e9-964e-0242ac110002"
    }
   },
   "outputs": [],
   "source": []
  }
 ],
 "metadata": {
  "kernelspec": {
   "display_name": "Python 3",
   "language": "python",
   "name": "python3"
  },
  "language_info": {
   "file_extension": ".py",
   "mimetype": "text/x-python",
   "name": "python",
   "nbconvert_exporter": "python",
   "pygments_lexer": "ipython3",
   "version": "3.7.3"
  },
  "lc_notebook_meme": {
   "current": "8897a806-32b4-11e9-964e-0242ac110002",
   "lc_server_signature": {
    "current": {
     "notebook_dir": "/home/jovyan",
     "notebook_path": "/sample-notebooks",
     "server_url": "http://localhost:8888/",
     "signature_id": "faa3f1b2-86aa-11e9-86e0-0242ac110002"
    },
    "history": [
     {
      "notebook_dir": "/notebooks",
      "notebook_path": "/",
      "server_url": "http://localhost:9999/",
      "signature_id": "355f8bcc-32b4-11e9-964e-0242ac110002"
     }
    ]
   }
  },
  "toc": {
   "base_numbering": 1,
   "nav_menu": {},
   "number_sections": true,
   "sideBar": true,
   "skip_h1_title": false,
   "title_cell": "Table of Contents",
   "title_sidebar": "Contents",
   "toc_cell": false,
   "toc_position": {},
   "toc_section_display": true,
   "toc_window_display": false
  }
 },
 "nbformat": 4,
 "nbformat_minor": 2
}
